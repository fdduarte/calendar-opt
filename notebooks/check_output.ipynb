{
 "cells": [
  {
   "attachments": {},
   "cell_type": "markdown",
   "metadata": {},
   "source": [
    "# Check model output"
   ]
  },
  {
   "attachments": {},
   "cell_type": "markdown",
   "metadata": {},
   "source": [
    "Check beta vars"
   ]
  },
  {
   "cell_type": "code",
   "execution_count": 1,
   "metadata": {},
   "outputs": [],
   "source": [
    "def load_betas(filename):\n",
    "  beta_m = {}\n",
    "  beta_p = {}\n",
    "  with open(f'../logs/output/{filename}', 'r', encoding='utf-8') as infile:\n",
    "    for line in infile:\n",
    "      if 'beta_m' in line:\n",
    "        variable, value = line.strip().split()\n",
    "        _, index = variable.strip(']').split('[')\n",
    "        team, date = index.split(',')\n",
    "        beta_m[(team, date)] = float(value)\n",
    "      if 'beta_p' in line:\n",
    "        variable, value = line.strip().split()\n",
    "        _, index = variable.strip(']').split('[')\n",
    "        team, date = index.split(',')\n",
    "        beta_p[(team, date)] = float(value)\n",
    "  return beta_m, beta_p"
   ]
  },
  {
   "attachments": {},
   "cell_type": "markdown",
   "metadata": {},
   "source": [
    "Get teams"
   ]
  },
  {
   "cell_type": "code",
   "execution_count": 2,
   "metadata": {},
   "outputs": [],
   "source": [
    "def get_teams_and_dates(beta):\n",
    "  teams = set()\n",
    "  dates = set()\n",
    "\n",
    "  for team, date in beta.keys():\n",
    "    teams.add(team)\n",
    "    dates.add(date)\n",
    "\n",
    "  teams = list(teams)\n",
    "  dates = list(dates)\n",
    "  dates = [int(date) for date in dates]\n",
    "  dates.sort()\n",
    "  dates = [str(date) for date in dates]\n",
    "  dates\n",
    "  return teams, dates"
   ]
  },
  {
   "cell_type": "code",
   "execution_count": 3,
   "metadata": {},
   "outputs": [],
   "source": [
    "def print_beta(teams, dates, beta, name='beta_m'):\n",
    "  for team in teams:\n",
    "    print(f'Team {team} {name}')\n",
    "    betas = []\n",
    "    for date in dates:\n",
    "      betas.append(str(int(beta[team, date])))\n",
    "    print(\"-\".join(betas))"
   ]
  },
  {
   "cell_type": "code",
   "execution_count": 16,
   "metadata": {},
   "outputs": [
    {
     "name": "stdout",
     "output_type": "stream",
     "text": [
      "[8, 11, 14]\n",
      "Team A beta_m\n",
      "8-8-8-8-8-8\n",
      "Team B beta_m\n",
      "1-1-1-1-1-1\n",
      "Team H beta_m\n",
      "1-1-1-1-1-1\n",
      "Team D beta_m\n",
      "1-1-1-1-1-1\n",
      "Team G beta_m\n",
      "1-1-1-1-1-1\n",
      "Team E beta_m\n",
      "1-1-1-1-1-1\n",
      "Team F beta_m\n",
      "1-1-1-1-1-1\n",
      "Team C beta_m\n",
      "1-1-1-1-1-1\n"
     ]
    }
   ],
   "source": [
    "b_m, b_p = load_betas('camp_8/experiment_team_A_0/model-campeonato_8_2-opt-0.sol')\n",
    "teams, dates = get_teams_and_dates(b_m)\n",
    "print('[8, 11, 14]')\n",
    "print_beta(teams, dates[:-1], b_m)"
   ]
  },
  {
   "cell_type": "code",
   "execution_count": 91,
   "metadata": {},
   "outputs": [
    {
     "name": "stdout",
     "output_type": "stream",
     "text": [
      "Team E beta_m\n",
      "1-1-1-1\n",
      "Team A beta_m\n",
      "1-2-1-6\n",
      "Team B beta_m\n",
      "1-2-1-4\n",
      "Team D beta_m\n",
      "1-1-3-5\n",
      "Team C beta_m\n",
      "1-3-1-2\n",
      "Team F beta_m\n",
      "1-1-1-1\n"
     ]
    }
   ],
   "source": [
    "b_m, b_p = load_betas('model-campeonato_6_1-opt-0-pol_6-8-10.sol')\n",
    "teams, dates = get_teams_and_dates(b_m)\n",
    "print_beta(teams, dates[:-1], b_m)"
   ]
  },
  {
   "cell_type": "code",
   "execution_count": 92,
   "metadata": {},
   "outputs": [
    {
     "name": "stdout",
     "output_type": "stream",
     "text": [
      "Team E beta_m\n",
      "1-1-1-1\n",
      "Team A beta_m\n",
      "1-1-1-3\n",
      "Team B beta_m\n",
      "1-1-1-3\n",
      "Team D beta_m\n",
      "1-1-3-3\n",
      "Team C beta_m\n",
      "1-1-1-3\n",
      "Team F beta_m\n",
      "1-1-1-1\n"
     ]
    }
   ],
   "source": [
    "b_m, b_p = load_betas('model-campeonato_6_1-opt-0-no-pol.sol')\n",
    "teams, dates = get_teams_and_dates(b_m)\n",
    "print_beta(teams, dates[:-1], b_m)"
   ]
  },
  {
   "attachments": {},
   "cell_type": "markdown",
   "metadata": {},
   "source": [
    "## beta P"
   ]
  },
  {
   "cell_type": "code",
   "execution_count": 93,
   "metadata": {},
   "outputs": [
    {
     "name": "stdout",
     "output_type": "stream",
     "text": [
      "Team E beta_p\n",
      "6-6-6-6\n",
      "Team A beta_p\n",
      "6-6-6-6\n",
      "Team B beta_p\n",
      "6-6-6-6\n",
      "Team D beta_p\n",
      "6-6-6-6\n",
      "Team C beta_p\n",
      "6-6-6-6\n",
      "Team F beta_p\n",
      "6-6-6-6\n"
     ]
    }
   ],
   "source": [
    "b_m, b_p = load_betas('model-campeonato_6_1-opt-0-pol_6-10.sol')\n",
    "teams, dates = get_teams_and_dates(b_p)\n",
    "print_beta(teams, dates[:-1], b_p, 'beta_p')"
   ]
  },
  {
   "cell_type": "code",
   "execution_count": 94,
   "metadata": {},
   "outputs": [
    {
     "name": "stdout",
     "output_type": "stream",
     "text": [
      "Team E beta_p\n",
      "6-6-5-1\n",
      "Team A beta_p\n",
      "6-6-6-6\n",
      "Team B beta_p\n",
      "6-6-6-6\n",
      "Team D beta_p\n",
      "6-6-6-5\n",
      "Team C beta_p\n",
      "6-6-6-3\n",
      "Team F beta_p\n",
      "6-6-5-2\n"
     ]
    }
   ],
   "source": [
    "b_m, b_p = load_betas('model-campeonato_6_1-opt-0-pol_6-8-10.sol')\n",
    "teams, dates = get_teams_and_dates(b_p)\n",
    "print_beta(teams, dates[:-1], b_p, 'beta_p')"
   ]
  },
  {
   "cell_type": "code",
   "execution_count": 95,
   "metadata": {},
   "outputs": [
    {
     "name": "stdout",
     "output_type": "stream",
     "text": [
      "Team E beta_p\n",
      "6-6-5-2\n",
      "Team A beta_p\n",
      "6-6-6-6\n",
      "Team B beta_p\n",
      "6-6-6-6\n",
      "Team D beta_p\n",
      "6-6-6-6\n",
      "Team C beta_p\n",
      "6-6-6-6\n",
      "Team F beta_p\n",
      "6-6-5-2\n"
     ]
    }
   ],
   "source": [
    "b_m, b_p = load_betas('model-campeonato_6_1-opt-0-no-pol.sol')\n",
    "teams, dates = get_teams_and_dates(b_p)\n",
    "print_beta(teams, dates[:-1], b_p, 'beta_p')"
   ]
  },
  {
   "cell_type": "code",
   "execution_count": null,
   "metadata": {},
   "outputs": [],
   "source": []
  }
 ],
 "metadata": {
  "kernelspec": {
   "display_name": "venv",
   "language": "python",
   "name": "python3"
  },
  "language_info": {
   "codemirror_mode": {
    "name": "ipython",
    "version": 3
   },
   "file_extension": ".py",
   "mimetype": "text/x-python",
   "name": "python",
   "nbconvert_exporter": "python",
   "pygments_lexer": "ipython3",
   "version": "3.11.2"
  },
  "orig_nbformat": 4
 },
 "nbformat": 4,
 "nbformat_minor": 2
}
