{
  "nbformat": 4,
  "nbformat_minor": 0,
  "metadata": {
    "colab": {
      "name": "generacion-campeonato.ipynb",
      "provenance": [],
      "collapsed_sections": []
    },
    "kernelspec": {
      "name": "python3",
      "display_name": "Python 3"
    },
    "language_info": {
      "name": "python"
    }
  },
  "cells": [
    {
      "cell_type": "markdown",
      "source": [
        "# Generar un Campeonato\n",
        "\n",
        "El propoósito del siguiente notebook es poder generar un campeonato aleatorio de $n$ equipos, donde cada equipo tenga un patrón de localías y visitas válido."
      ],
      "metadata": {
        "id": "PYRg_OrVhwgD"
      }
    },
    {
      "cell_type": "markdown",
      "source": [
        "## Parametros"
      ],
      "metadata": {
        "id": "9OfGiR0big8B"
      }
    },
    {
      "cell_type": "code",
      "execution_count": null,
      "metadata": {
        "id": "60AH5z4ihtbH"
      },
      "outputs": [],
      "source": [
        "team_amount = 8\n",
        "\n",
        "assert team_amount % 2 == 0, \"Equipos deben ser par\"\n",
        "assert team_amount <= 28, \"Máxima cantidad de equipos 28\""
      ]
    },
    {
      "cell_type": "markdown",
      "source": [
        "## Equipos del campeonato\n",
        "\n",
        "Se generan los equipos del campeonato. Los equipos serán las letras del abecedario."
      ],
      "metadata": {
        "id": "5b6EesFAiizz"
      }
    },
    {
      "cell_type": "code",
      "source": [
        "import string\n",
        "\n",
        "alphabet = list(string.ascii_uppercase)"
      ],
      "metadata": {
        "id": "8E8H-bcCiEuP"
      },
      "execution_count": null,
      "outputs": []
    },
    {
      "cell_type": "code",
      "source": [
        "teams = alphabet[0:team_amount]"
      ],
      "metadata": {
        "id": "vFkCDZUyh4Pr"
      },
      "execution_count": null,
      "outputs": []
    },
    {
      "cell_type": "code",
      "source": [
        "teams"
      ],
      "metadata": {
        "colab": {
          "base_uri": "https://localhost:8080/"
        },
        "id": "rwyLApYEi7UV",
        "outputId": "ddc84fac-66a9-4908-8a61-5dbb876ad80b"
      },
      "execution_count": null,
      "outputs": [
        {
          "output_type": "execute_result",
          "data": {
            "text/plain": [
              "['A', 'B', 'C', 'D', 'E', 'F', 'G', 'H']"
            ]
          },
          "metadata": {},
          "execution_count": 4
        }
      ]
    },
    {
      "cell_type": "markdown",
      "source": [
        "## Partidos"
      ],
      "metadata": {
        "id": "7g6uE0OoiU9C"
      }
    },
    {
      "cell_type": "markdown",
      "source": [
        "Se genera una lista de las combinaciónes de partidos a jugar."
      ],
      "metadata": {
        "id": "KofW-PS7fBys"
      }
    },
    {
      "cell_type": "code",
      "source": [
        "matches = []\n",
        "for team_a in teams:\n",
        "    for team_b in teams:\n",
        "        if team_a != team_b:\n",
        "            if team_a > team_b:\n",
        "                matches.append(f\"{team_a}-{team_b}\")\n",
        "            else:\n",
        "                matches.append(f\"{team_b}-{team_a}\")"
      ],
      "metadata": {
        "id": "VmublPeciR00"
      },
      "execution_count": null,
      "outputs": []
    },
    {
      "cell_type": "code",
      "source": [
        "matches = list(set(matches))"
      ],
      "metadata": {
        "id": "Kdi0GNj-jBOV"
      },
      "execution_count": null,
      "outputs": []
    },
    {
      "cell_type": "code",
      "source": [
        "matches = [x.split('-') for x in matches]"
      ],
      "metadata": {
        "id": "5lU4dPrgjvDF"
      },
      "execution_count": null,
      "outputs": []
    },
    {
      "cell_type": "code",
      "source": [
        "matches[0:10]"
      ],
      "metadata": {
        "colab": {
          "base_uri": "https://localhost:8080/"
        },
        "id": "zmOhiH0zkK0V",
        "outputId": "a0de8c46-417c-4d72-e5ff-f6fda04f8484"
      },
      "execution_count": null,
      "outputs": [
        {
          "output_type": "execute_result",
          "data": {
            "text/plain": [
              "[['F', 'E'],\n",
              " ['E', 'D'],\n",
              " ['D', 'B'],\n",
              " ['G', 'A'],\n",
              " ['C', 'A'],\n",
              " ['G', 'F'],\n",
              " ['B', 'A'],\n",
              " ['H', 'E'],\n",
              " ['G', 'C'],\n",
              " ['H', 'C']]"
            ]
          },
          "metadata": {},
          "execution_count": 8
        }
      ]
    },
    {
      "cell_type": "code",
      "source": [
        "matches_per_date = len(teams) / 2"
      ],
      "metadata": {
        "id": "ONZQRcd0kMOA"
      },
      "execution_count": null,
      "outputs": []
    },
    {
      "cell_type": "code",
      "source": [
        "dates_number = int(len(matches) / matches_per_date)"
      ],
      "metadata": {
        "id": "hR5M6D99kqZH"
      },
      "execution_count": null,
      "outputs": []
    },
    {
      "cell_type": "markdown",
      "source": [
        "## Patrones\n",
        "\n",
        "Se genera un conjuntos de patrones que sea valido para $n$ equipos. Un conjunto de patrones es valido si para cada fecha la cantidad de visitas es igual a la de localias"
      ],
      "metadata": {
        "id": "K6C43DlXCYcK"
      }
    },
    {
      "cell_type": "code",
      "source": [
        "import itertools"
      ],
      "metadata": {
        "id": "lIM-UNDgChph"
      },
      "execution_count": null,
      "outputs": []
    },
    {
      "cell_type": "code",
      "source": [
        "patterns = [\"\".join(seq) for seq in itertools.product(\"01\", repeat=dates_number)]\n",
        "patterns = filter(lambda x: x.count('000') == 0, patterns)\n",
        "patterns = filter(lambda x: x.count('111') == 0, patterns)\n",
        "patterns = filter(lambda x: x.count('00') <= 1, patterns)\n",
        "patterns = filter(lambda x: x.count('11') <= 1, patterns)\n",
        "\n",
        "patterns = list(patterns)\n",
        "patterns[:5]"
      ],
      "metadata": {
        "id": "1_jGdhjKCsMu",
        "colab": {
          "base_uri": "https://localhost:8080/"
        },
        "outputId": "3f94e431-486b-4b5d-8e2c-156eba0bba9f"
      },
      "execution_count": null,
      "outputs": [
        {
          "output_type": "execute_result",
          "data": {
            "text/plain": [
              "['0010101', '0010110', '0011010', '0100101', '0100110']"
            ]
          },
          "metadata": {},
          "execution_count": 12
        }
      ]
    },
    {
      "cell_type": "code",
      "source": [
        "def check_pattern_group(patterns):\n",
        "    \"\"\"\n",
        "    Retorna true si el set de patrones es válido, es decir,\n",
        "    para cada fecha la cantidad de localias y visitas es igual.\n",
        "    \"\"\"\n",
        "    for i in range(len(patterns[0])):\n",
        "        local = 0\n",
        "        visit = 0\n",
        "        for pattern in patterns:\n",
        "            if pattern[i] == '1':\n",
        "                local += 1\n",
        "            else: visit += 1\n",
        "        if local != visit: return False\n",
        "    return True"
      ],
      "metadata": {
        "id": "NrXtpuFQEw8A"
      },
      "execution_count": null,
      "outputs": []
    },
    {
      "cell_type": "markdown",
      "source": [
        "Se obtiene un sample aleatorio de patrones, luego se itera hasta que el sample sea válido."
      ],
      "metadata": {
        "id": "dcdJxWv_aL5j"
      }
    },
    {
      "cell_type": "code",
      "source": [
        "import random\n",
        "import time\n",
        "\n",
        "start = time.time()\n",
        "iter = 0\n",
        "\n",
        "while True:\n",
        "    iter += 1\n",
        "    patterns_sample = random.sample(patterns, len(teams))\n",
        "    if check_pattern_group(patterns_sample):\n",
        "        break\n",
        "\n",
        "print('Tiempo:', time.time() - start)\n",
        "print('Iteraciones:', iter)"
      ],
      "metadata": {
        "id": "uS05cGgqEkdk",
        "colab": {
          "base_uri": "https://localhost:8080/"
        },
        "outputId": "54978f47-60b8-4f12-858d-7c5e395c0ca1"
      },
      "execution_count": null,
      "outputs": [
        {
          "output_type": "stream",
          "name": "stdout",
          "text": [
            "Tiempo: 0.019544601440429688\n",
            "Iteraciones: 891\n"
          ]
        }
      ]
    },
    {
      "cell_type": "code",
      "source": [
        "patterns_sample"
      ],
      "metadata": {
        "colab": {
          "base_uri": "https://localhost:8080/"
        },
        "id": "MH82LyMjFtc8",
        "outputId": "1578afc1-b87a-4500-8aac-0c42d9399a7b"
      },
      "execution_count": null,
      "outputs": [
        {
          "output_type": "execute_result",
          "data": {
            "text/plain": [
              "['1010101',\n",
              " '0101101',\n",
              " '1101001',\n",
              " '1101010',\n",
              " '0110010',\n",
              " '1001010',\n",
              " '0010101',\n",
              " '0010110']"
            ]
          },
          "metadata": {},
          "execution_count": 15
        }
      ]
    },
    {
      "cell_type": "markdown",
      "source": [
        "Se le asigna un patrón a cada equipo"
      ],
      "metadata": {
        "id": "8Pd8FYr6GLS8"
      }
    },
    {
      "cell_type": "code",
      "source": [
        "team_patterns = {team: pat for team, pat in zip(teams, patterns_sample)}"
      ],
      "metadata": {
        "id": "2Kl0SE5dGJ9d"
      },
      "execution_count": null,
      "outputs": []
    },
    {
      "cell_type": "code",
      "source": [
        "team_patterns"
      ],
      "metadata": {
        "colab": {
          "base_uri": "https://localhost:8080/"
        },
        "id": "Spwah-JyGV9y",
        "outputId": "586e7e38-8332-45bd-b702-032fd38b659b"
      },
      "execution_count": null,
      "outputs": [
        {
          "output_type": "execute_result",
          "data": {
            "text/plain": [
              "{'A': '1010101',\n",
              " 'B': '0101101',\n",
              " 'C': '1101001',\n",
              " 'D': '1101010',\n",
              " 'E': '0110010',\n",
              " 'F': '1001010',\n",
              " 'G': '0010101',\n",
              " 'H': '0010110'}"
            ]
          },
          "metadata": {},
          "execution_count": 17
        }
      ]
    },
    {
      "cell_type": "markdown",
      "source": [
        "## Primera vuelta"
      ],
      "metadata": {
        "id": "5jzMg4VSGYXl"
      }
    },
    {
      "cell_type": "markdown",
      "source": [
        "Ahora, se asignan las fechas"
      ],
      "metadata": {
        "id": "Y5DEh-GKGcCg"
      }
    },
    {
      "cell_type": "code",
      "source": [
        "def team_in_date(team, date_matches):\n",
        "    \"\"\"\n",
        "    Retorna true si el equipo esta dentro de\n",
        "    los partidos de la fecha\n",
        "    \"\"\"\n",
        "    teams_in_date = []\n",
        "    for a, b in date_matches:\n",
        "        teams_in_date.append(a)\n",
        "        teams_in_date.append(b)\n",
        "    return team in teams_in_date"
      ],
      "metadata": {
        "id": "yM_WbPVWHWDT"
      },
      "execution_count": null,
      "outputs": []
    },
    {
      "cell_type": "code",
      "source": [
        "championship = {}\n",
        "\n",
        "for date in range(1, dates_number + 1):\n",
        "    date_matches = []\n",
        "    for team in teams:\n",
        "        # Si el equipo ya fue agregado, se pasa al siguiente\n",
        "        if team_in_date(team, date_matches):\n",
        "            continue\n",
        "        if len(date_matches) == len(teams) / 2:\n",
        "            break\n",
        "        # se revisa si al equipo le toca de local o visita\n",
        "        local = team_patterns[team][date - 1] == '1'\n",
        "        # se selecciona su rival de manera aleatoria.\n",
        "        possible_teams = []\n",
        "        for team2 in teams:\n",
        "            # No puede ser el equipo actual\n",
        "            if team == team2:\n",
        "                continue\n",
        "            # No puede estar en ninguna fecha\n",
        "            if team_in_date(team2, date_matches):\n",
        "                continue\n",
        "            team2_local = team_patterns[team2][date - 1] == '1'\n",
        "            # No debe ser local si el equipo actual es local o viceversa\n",
        "            if local == (not team2_local):\n",
        "                possible_teams.append(team2)\n",
        "        team2 = random.choice(possible_teams)\n",
        "        if local:\n",
        "            date_matches.append((team, team2))\n",
        "        else:\n",
        "            date_matches.append((team2, team))\n",
        "\n",
        "    championship[date] = date_matches"
      ],
      "metadata": {
        "id": "wp7SE9g8Ge1Z"
      },
      "execution_count": null,
      "outputs": []
    },
    {
      "cell_type": "code",
      "source": [
        "championship"
      ],
      "metadata": {
        "colab": {
          "base_uri": "https://localhost:8080/"
        },
        "id": "vwa11taZIWlw",
        "outputId": "a67a0193-c144-4363-c4af-e0f06b28bca3"
      },
      "execution_count": null,
      "outputs": [
        {
          "output_type": "execute_result",
          "data": {
            "text/plain": [
              "{1: [('A', 'G'), ('C', 'B'), ('D', 'H'), ('F', 'E')],\n",
              " 2: [('B', 'A'), ('C', 'G'), ('D', 'H'), ('E', 'F')],\n",
              " 3: [('A', 'F'), ('G', 'B'), ('H', 'C'), ('E', 'D')],\n",
              " 4: [('F', 'A'), ('B', 'H'), ('C', 'G'), ('D', 'E')],\n",
              " 5: [('A', 'F'), ('B', 'E'), ('G', 'C'), ('H', 'D')],\n",
              " 6: [('E', 'A'), ('D', 'B'), ('H', 'C'), ('F', 'G')],\n",
              " 7: [('A', 'F'), ('B', 'E'), ('C', 'D'), ('G', 'H')]}"
            ]
          },
          "metadata": {},
          "execution_count": 20
        }
      ]
    },
    {
      "cell_type": "markdown",
      "source": [
        "## Segunda vuelta"
      ],
      "metadata": {
        "id": "XtRkdnEzhHLO"
      }
    },
    {
      "cell_type": "markdown",
      "source": [
        "Ahora, asignarle patrones a los equipos es un poco más complicado, dado que un equipo tiene localías faltantes, y puede arrastrar un break."
      ],
      "metadata": {
        "id": "1q4Ea8wchL63"
      }
    },
    {
      "cell_type": "code",
      "source": [
        "team_patterns_2 = {}\n",
        "memo = {}\n",
        "\n",
        "def get_team_pattern(team):\n",
        "    if team in memo.keys():\n",
        "        patterns_c = memo[team]\n",
        "    else:\n",
        "        pat = team_patterns[team]\n",
        "        visit = pat.count('0')\n",
        "        last_2_dates = pat[-2:]\n",
        "        patterns_c = patterns.copy()\n",
        "        patterns_c = [last_2_dates + p for p in patterns_c]\n",
        "        # se filtran si tiene 000 o 111\n",
        "        patterns_c = filter(lambda x: x.count('000') == 0, patterns_c)\n",
        "        patterns_c = filter(lambda x: x.count('111') == 0, patterns_c)\n",
        "\n",
        "        patterns_c = [x[1:] for x in patterns_c]\n",
        "        # se filtran si tienen mas de dos breaks\n",
        "        patterns_c = filter(lambda x: x.count('00') <= 1, patterns_c)\n",
        "        patterns_c = filter(lambda x: x.count('11') <= 1, patterns_c)\n",
        "        patterns_c = [x[1:] for x in patterns_c]\n",
        "\n",
        "        # visitas restantes iguales\n",
        "        patterns_c = filter(lambda x: x.count('0') <= visit, patterns_c)\n",
        "\n",
        "        patterns_c = list(patterns_c)\n",
        "        memo[team] = patterns_c\n",
        "    return random.choice(patterns_c)"
      ],
      "metadata": {
        "id": "Avb6YShlhXFa"
      },
      "execution_count": null,
      "outputs": []
    },
    {
      "cell_type": "code",
      "source": [
        "start = time.time()\n",
        "iter = 0\n",
        "\n",
        "while True:\n",
        "    iter += 1\n",
        "    patterns_sample = []\n",
        "    for team in teams:\n",
        "        patterns_sample.append(get_team_pattern(team))\n",
        "    if check_pattern_group(patterns_sample):\n",
        "        break\n",
        "\n",
        "print('Tiempo:', time.time() - start)\n",
        "print('Iteraciones:', iter)"
      ],
      "metadata": {
        "id": "13y9bmFmi09T",
        "colab": {
          "base_uri": "https://localhost:8080/"
        },
        "outputId": "d932e135-fb4e-45ea-fc8c-5a0e8b141ac9"
      },
      "execution_count": null,
      "outputs": [
        {
          "output_type": "stream",
          "name": "stdout",
          "text": [
            "Tiempo: 0.05444002151489258\n",
            "Iteraciones: 1420\n"
          ]
        }
      ]
    },
    {
      "cell_type": "code",
      "source": [
        "team_patterns = {team: pat for team, pat in zip(teams, patterns_sample)}"
      ],
      "metadata": {
        "id": "-GCOmdDWimIX"
      },
      "execution_count": null,
      "outputs": []
    },
    {
      "cell_type": "markdown",
      "source": [
        "Se agrega la segunda vuelta al campeonato"
      ],
      "metadata": {
        "id": "D8fmIdvnjKPx"
      }
    },
    {
      "cell_type": "code",
      "source": [
        "for date in range(1, dates_number + 1):\n",
        "    date_matches = []\n",
        "    for team in teams:\n",
        "        # Si el equipo ya fue agregado, se pasa al siguiente\n",
        "        if team_in_date(team, date_matches):\n",
        "            continue\n",
        "        if len(date_matches) == len(teams) / 2:\n",
        "            break\n",
        "        # se revisa si al equipo le toca de local o visita\n",
        "        local = team_patterns[team][date - 1] == '1'\n",
        "        # se selecciona su rival de manera aleatoria.\n",
        "        # para esto, el equipo no debe haber jugado en la fecha, y\n",
        "        # debe ser visita si el primer equipo es local o viceversa\n",
        "        possible_teams = []\n",
        "        for team2 in teams:\n",
        "            if team == team2:\n",
        "                continue\n",
        "            if team_in_date(team2, date_matches):\n",
        "                continue\n",
        "            team2_local = team_patterns[team2][date - 1] == '1'\n",
        "            if local == (not team2_local):\n",
        "                possible_teams.append(team2)\n",
        "        team2 = random.choice(possible_teams)\n",
        "        if local:\n",
        "            date_matches.append((team, team2))\n",
        "        else:\n",
        "            date_matches.append((team2, team))\n",
        "\n",
        "    championship[date + 5] = date_matches"
      ],
      "metadata": {
        "id": "pKjS7Z2rjJdw"
      },
      "execution_count": null,
      "outputs": []
    },
    {
      "cell_type": "code",
      "source": [
        "championship"
      ],
      "metadata": {
        "colab": {
          "base_uri": "https://localhost:8080/"
        },
        "id": "rcR85EVkjUeJ",
        "outputId": "49e72d3e-a02e-4631-e756-facfc58044ff"
      },
      "execution_count": null,
      "outputs": [
        {
          "output_type": "execute_result",
          "data": {
            "text/plain": [
              "{1: [('A', 'G'), ('C', 'B'), ('D', 'H'), ('F', 'E')],\n",
              " 2: [('B', 'A'), ('C', 'G'), ('D', 'H'), ('E', 'F')],\n",
              " 3: [('A', 'F'), ('G', 'B'), ('H', 'C'), ('E', 'D')],\n",
              " 4: [('F', 'A'), ('B', 'H'), ('C', 'G'), ('D', 'E')],\n",
              " 5: [('A', 'F'), ('B', 'E'), ('G', 'C'), ('H', 'D')],\n",
              " 6: [('B', 'A'), ('H', 'C'), ('G', 'D'), ('E', 'F')],\n",
              " 7: [('A', 'E'), ('F', 'B'), ('C', 'G'), ('D', 'H')],\n",
              " 8: [('H', 'A'), ('B', 'E'), ('G', 'C'), ('D', 'F')],\n",
              " 9: [('A', 'D'), ('C', 'B'), ('E', 'G'), ('F', 'H')],\n",
              " 10: [('D', 'A'), ('B', 'H'), ('C', 'E'), ('G', 'F')],\n",
              " 11: [('A', 'B'), ('H', 'C'), ('F', 'D'), ('E', 'G')],\n",
              " 12: [('A', 'E'), ('B', 'H'), ('C', 'F'), ('D', 'G')]}"
            ]
          },
          "metadata": {},
          "execution_count": 25
        }
      ]
    },
    {
      "cell_type": "markdown",
      "source": [
        "## Puntos"
      ],
      "metadata": {
        "id": "-4edcIJzs5-N"
      }
    },
    {
      "cell_type": "markdown",
      "source": [
        "Por último, falta asignarle puntaje a los partidos. La distribución de los goles de un partido es totalmente arbitraria."
      ],
      "metadata": {
        "id": "ecRWpsHltE1C"
      }
    },
    {
      "cell_type": "code",
      "source": [
        "possible_points = [0] * 6 + [1] * 5 + [2] * 4 + [3] * 3 + [4] * 2 + [5]\n",
        "possible_points"
      ],
      "metadata": {
        "id": "QkJhZZOSr3pR",
        "colab": {
          "base_uri": "https://localhost:8080/"
        },
        "outputId": "f562319e-228d-45de-a41f-7780ba1ce65c"
      },
      "execution_count": null,
      "outputs": [
        {
          "output_type": "execute_result",
          "data": {
            "text/plain": [
              "[0, 0, 0, 0, 0, 0, 1, 1, 1, 1, 1, 2, 2, 2, 2, 3, 3, 3, 4, 4, 5]"
            ]
          },
          "metadata": {},
          "execution_count": 26
        }
      ]
    },
    {
      "cell_type": "code",
      "source": [
        "points_range = list(set(possible_points))\n",
        "points_range.sort()\n",
        "\n",
        "for p in list(set(possible_points)):\n",
        "    count = possible_points.count(p)\n",
        "    print(f'P(X={p}) =', round(count / len(possible_points), 3))"
      ],
      "metadata": {
        "colab": {
          "base_uri": "https://localhost:8080/"
        },
        "id": "HkNRoji3fqn_",
        "outputId": "7c56bb8b-e6ba-4c96-b864-43d9fe8b7e6b"
      },
      "execution_count": null,
      "outputs": [
        {
          "output_type": "stream",
          "name": "stdout",
          "text": [
            "P(X=0) = 0.286\n",
            "P(X=1) = 0.238\n",
            "P(X=2) = 0.19\n",
            "P(X=3) = 0.143\n",
            "P(X=4) = 0.095\n",
            "P(X=5) = 0.048\n"
          ]
        }
      ]
    },
    {
      "cell_type": "code",
      "source": [
        "def get_score():\n",
        "    return random.choice(possible_points)"
      ],
      "metadata": {
        "id": "Nyxk9nEEt94Z"
      },
      "execution_count": null,
      "outputs": []
    },
    {
      "cell_type": "code",
      "source": [
        "final_champ = {}\n",
        "\n",
        "for date, matches_list in championship.items():\n",
        "    matches = []\n",
        "    for local, visit in matches_list:\n",
        "        matches.append({\n",
        "            'local': local,\n",
        "            'visit': visit,\n",
        "            'score': f\"{get_score()}:{get_score()}\"\n",
        "        })\n",
        "    final_champ[date] = matches"
      ],
      "metadata": {
        "id": "ajgos4z3tT0c"
      },
      "execution_count": null,
      "outputs": []
    },
    {
      "cell_type": "code",
      "source": [
        "final_champ"
      ],
      "metadata": {
        "id": "Zixj30YjtVJh",
        "colab": {
          "base_uri": "https://localhost:8080/"
        },
        "outputId": "bf54c960-ba79-497c-fd22-fc8e3c161528"
      },
      "execution_count": null,
      "outputs": [
        {
          "output_type": "execute_result",
          "data": {
            "text/plain": [
              "{1: [{'local': 'A', 'score': '1:2', 'visit': 'G'},\n",
              "  {'local': 'C', 'score': '4:1', 'visit': 'B'},\n",
              "  {'local': 'D', 'score': '1:4', 'visit': 'H'},\n",
              "  {'local': 'F', 'score': '5:3', 'visit': 'E'}],\n",
              " 2: [{'local': 'B', 'score': '3:1', 'visit': 'A'},\n",
              "  {'local': 'C', 'score': '0:0', 'visit': 'G'},\n",
              "  {'local': 'D', 'score': '0:0', 'visit': 'H'},\n",
              "  {'local': 'E', 'score': '1:4', 'visit': 'F'}],\n",
              " 3: [{'local': 'A', 'score': '3:1', 'visit': 'F'},\n",
              "  {'local': 'G', 'score': '0:2', 'visit': 'B'},\n",
              "  {'local': 'H', 'score': '2:2', 'visit': 'C'},\n",
              "  {'local': 'E', 'score': '1:0', 'visit': 'D'}],\n",
              " 4: [{'local': 'F', 'score': '2:5', 'visit': 'A'},\n",
              "  {'local': 'B', 'score': '0:1', 'visit': 'H'},\n",
              "  {'local': 'C', 'score': '1:0', 'visit': 'G'},\n",
              "  {'local': 'D', 'score': '0:0', 'visit': 'E'}],\n",
              " 5: [{'local': 'A', 'score': '3:1', 'visit': 'F'},\n",
              "  {'local': 'B', 'score': '1:3', 'visit': 'E'},\n",
              "  {'local': 'G', 'score': '1:1', 'visit': 'C'},\n",
              "  {'local': 'H', 'score': '1:1', 'visit': 'D'}],\n",
              " 6: [{'local': 'B', 'score': '3:0', 'visit': 'A'},\n",
              "  {'local': 'H', 'score': '3:3', 'visit': 'C'},\n",
              "  {'local': 'G', 'score': '0:1', 'visit': 'D'},\n",
              "  {'local': 'E', 'score': '0:1', 'visit': 'F'}],\n",
              " 7: [{'local': 'A', 'score': '0:4', 'visit': 'E'},\n",
              "  {'local': 'F', 'score': '1:0', 'visit': 'B'},\n",
              "  {'local': 'C', 'score': '1:2', 'visit': 'G'},\n",
              "  {'local': 'D', 'score': '2:1', 'visit': 'H'}],\n",
              " 8: [{'local': 'H', 'score': '0:1', 'visit': 'A'},\n",
              "  {'local': 'B', 'score': '1:1', 'visit': 'E'},\n",
              "  {'local': 'G', 'score': '5:1', 'visit': 'C'},\n",
              "  {'local': 'D', 'score': '3:1', 'visit': 'F'}],\n",
              " 9: [{'local': 'A', 'score': '1:2', 'visit': 'D'},\n",
              "  {'local': 'C', 'score': '2:1', 'visit': 'B'},\n",
              "  {'local': 'E', 'score': '3:3', 'visit': 'G'},\n",
              "  {'local': 'F', 'score': '3:1', 'visit': 'H'}],\n",
              " 10: [{'local': 'D', 'score': '0:2', 'visit': 'A'},\n",
              "  {'local': 'B', 'score': '3:1', 'visit': 'H'},\n",
              "  {'local': 'C', 'score': '0:4', 'visit': 'E'},\n",
              "  {'local': 'G', 'score': '0:0', 'visit': 'F'}],\n",
              " 11: [{'local': 'A', 'score': '0:0', 'visit': 'B'},\n",
              "  {'local': 'H', 'score': '1:0', 'visit': 'C'},\n",
              "  {'local': 'F', 'score': '3:2', 'visit': 'D'},\n",
              "  {'local': 'E', 'score': '0:2', 'visit': 'G'}],\n",
              " 12: [{'local': 'A', 'score': '0:2', 'visit': 'E'},\n",
              "  {'local': 'B', 'score': '1:0', 'visit': 'H'},\n",
              "  {'local': 'C', 'score': '1:2', 'visit': 'F'},\n",
              "  {'local': 'D', 'score': '3:2', 'visit': 'G'}]}"
            ]
          },
          "metadata": {},
          "execution_count": 30
        }
      ]
    },
    {
      "cell_type": "code",
      "source": [
        "last_date = max(championship.keys())\n",
        "last_first_round_date = int(last_date / 2)"
      ],
      "metadata": {
        "id": "Qj_1Ktcru1m1"
      },
      "execution_count": null,
      "outputs": []
    },
    {
      "cell_type": "code",
      "source": [
        "team_first_round_points = {}\n",
        "localies_left = {}\n",
        "\n",
        "for team in teams:\n",
        "    points = 0\n",
        "    localies = 0\n",
        "    for i in range(last_first_round_date):\n",
        "        i += 1\n",
        "        filt = lambda x: team in x['local'] or team in x['visit']\n",
        "        match = list(filter(filt, final_champ[i]))[0]\n",
        "        if match['local'] == team and match['score'][0] > match['score'][2]:\n",
        "            points += 3\n",
        "        if match['visit'] == team and match['score'][0] < match['score'][2]:\n",
        "            points += 3\n",
        "        if match['score'][0] == match['score'][2]:\n",
        "            points += 1\n",
        "        if match['local'] == team:\n",
        "            localies += 1\n",
        "    team_first_round_points[team] = points\n",
        "    localies_left[team] = last_first_round_date - localies"
      ],
      "metadata": {
        "id": "J5aBKDY2XUt0"
      },
      "execution_count": null,
      "outputs": []
    },
    {
      "cell_type": "code",
      "source": [
        "localies_left"
      ],
      "metadata": {
        "id": "b1WJo5u4Y3Gg",
        "colab": {
          "base_uri": "https://localhost:8080/"
        },
        "outputId": "e47a1a70-0d7d-4289-a6f8-d3639b410823"
      },
      "execution_count": null,
      "outputs": [
        {
          "output_type": "execute_result",
          "data": {
            "text/plain": [
              "{'A': 3, 'B': 2, 'C': 3, 'D': 3, 'E': 3, 'F': 4, 'G': 3, 'H': 3}"
            ]
          },
          "metadata": {},
          "execution_count": 33
        }
      ]
    },
    {
      "cell_type": "code",
      "source": [
        "team_first_round_points"
      ],
      "metadata": {
        "colab": {
          "base_uri": "https://localhost:8080/"
        },
        "id": "M8-kPen6gsJu",
        "outputId": "68276192-cec1-4cd3-bb5b-81c0d375fe85"
      },
      "execution_count": null,
      "outputs": [
        {
          "output_type": "execute_result",
          "data": {
            "text/plain": [
              "{'A': 9, 'B': 9, 'C': 10, 'D': 6, 'E': 7, 'F': 9, 'G': 5, 'H': 10}"
            ]
          },
          "metadata": {},
          "execution_count": 34
        }
      ]
    },
    {
      "cell_type": "markdown",
      "source": [
        "## Se escribe el archivo xlsx"
      ],
      "metadata": {
        "id": "BAbPlXf4T2oZ"
      }
    },
    {
      "cell_type": "code",
      "source": [
        "!pip install XlsxWriter"
      ],
      "metadata": {
        "id": "ryJ8izesu2nl",
        "colab": {
          "base_uri": "https://localhost:8080/"
        },
        "outputId": "e26a2e90-40e5-481a-9901-1a531537a560"
      },
      "execution_count": null,
      "outputs": [
        {
          "output_type": "stream",
          "name": "stdout",
          "text": [
            "Looking in indexes: https://pypi.org/simple, https://us-python.pkg.dev/colab-wheels/public/simple/\n",
            "Collecting XlsxWriter\n",
            "  Downloading XlsxWriter-3.0.3-py3-none-any.whl (149 kB)\n",
            "\u001b[K     |████████████████████████████████| 149 kB 5.2 MB/s \n",
            "\u001b[?25hInstalling collected packages: XlsxWriter\n",
            "Successfully installed XlsxWriter-3.0.3\n"
          ]
        }
      ]
    },
    {
      "cell_type": "code",
      "source": [
        "import xlsxwriter\n",
        "\n",
        "workbook = xlsxwriter.Workbook(f'campeonato_{team_amount}.xlsx')"
      ],
      "metadata": {
        "id": "H3s4l5oyT1OT"
      },
      "execution_count": null,
      "outputs": []
    },
    {
      "cell_type": "markdown",
      "source": [
        "## Hoja 1"
      ],
      "metadata": {
        "id": "2qrRtDpEjPEs"
      }
    },
    {
      "cell_type": "code",
      "source": [
        "worksheet = workbook.add_worksheet('Equipos')"
      ],
      "metadata": {
        "id": "NaAFTpWFUH5T"
      },
      "execution_count": null,
      "outputs": []
    },
    {
      "cell_type": "code",
      "source": [
        "for i in range(2, len(teams) + 2):\n",
        "    worksheet.write(f'A{i}', i - 1)"
      ],
      "metadata": {
        "id": "0ssFA-b_UNZJ"
      },
      "execution_count": null,
      "outputs": []
    },
    {
      "cell_type": "code",
      "source": [
        "worksheet.write('B1', 'EQUIPO')\n",
        "worksheet.write('C1', 'ALIAS')\n",
        "worksheet.write('D1', 'Puntos al finalizar la primera rueda')\n",
        "worksheet.write('E1', 'Localías faltantes')"
      ],
      "metadata": {
        "id": "WQ8yJltYUZ-w",
        "colab": {
          "base_uri": "https://localhost:8080/"
        },
        "outputId": "0019df53-9d9a-49de-9c0d-ad4a764ad08d"
      },
      "execution_count": null,
      "outputs": [
        {
          "output_type": "execute_result",
          "data": {
            "text/plain": [
              "0"
            ]
          },
          "metadata": {},
          "execution_count": 39
        }
      ]
    },
    {
      "cell_type": "code",
      "source": [
        "for i in range(2, len(teams) + 2):\n",
        "    worksheet.write(f'B{i}', teams[i - 2])\n",
        "    worksheet.write(f'C{i}', teams[i - 2])\n",
        "    worksheet.write(f'D{i}', team_first_round_points[teams[i - 2]])\n",
        "    worksheet.write(f'E{i}', localies_left[teams[i - 2]])"
      ],
      "metadata": {
        "id": "7jI2vDQFUqMD"
      },
      "execution_count": null,
      "outputs": []
    },
    {
      "cell_type": "markdown",
      "source": [
        "## Hoja 2"
      ],
      "metadata": {
        "id": "jk7acuYAjRsy"
      }
    },
    {
      "cell_type": "code",
      "source": [
        "worksheet = workbook.add_worksheet('Resultados')"
      ],
      "metadata": {
        "id": "OTWANFCYjUNz"
      },
      "execution_count": null,
      "outputs": []
    },
    {
      "cell_type": "code",
      "source": [
        "worksheet.write('A1', 'Jornada')\n",
        "worksheet.write('B1', 'Fecha')\n",
        "worksheet.write('C1', 'Local')\n",
        "worksheet.write('D1', 'Visita')\n",
        "worksheet.write('E1', 'Resultado')"
      ],
      "metadata": {
        "colab": {
          "base_uri": "https://localhost:8080/"
        },
        "id": "hodLnSKxj695",
        "outputId": "be5a9593-0980-465f-c733-40aec19880de"
      },
      "execution_count": null,
      "outputs": [
        {
          "output_type": "execute_result",
          "data": {
            "text/plain": [
              "0"
            ]
          },
          "metadata": {},
          "execution_count": 42
        }
      ]
    },
    {
      "cell_type": "code",
      "source": [
        "dates_rev = list(final_champ.keys())\n",
        "dates_rev.sort(reverse=True)\n",
        "\n",
        "row = 2\n",
        "for date in dates_rev:\n",
        "    worksheet.write(f'A{row}', date)\n",
        "    row += 1\n",
        "    for match in final_champ[date]:\n",
        "        worksheet.write(f'B{row}', '1/1/2022')\n",
        "        worksheet.write(f'C{row}', match['local'])\n",
        "        worksheet.write(f'D{row}', match['visit'])\n",
        "        worksheet.write(f'E{row}', match['score'])\n",
        "        row += 1"
      ],
      "metadata": {
        "id": "-4iDRpOvkFJG"
      },
      "execution_count": null,
      "outputs": []
    },
    {
      "cell_type": "code",
      "source": [
        "workbook.close()"
      ],
      "metadata": {
        "id": "NoJ1yXURUxwq"
      },
      "execution_count": null,
      "outputs": []
    },
    {
      "cell_type": "code",
      "source": [
        ""
      ],
      "metadata": {
        "id": "yAGH1T4zU-XO"
      },
      "execution_count": null,
      "outputs": []
    }
  ]
}