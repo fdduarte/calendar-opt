{
 "cells": [
  {
   "cell_type": "markdown",
   "metadata": {},
   "source": [
    "# Métricas del campeonato"
   ]
  },
  {
   "cell_type": "markdown",
   "metadata": {},
   "source": [
    "## Posiciones"
   ]
  },
  {
   "cell_type": "markdown",
   "metadata": {},
   "source": [
    "Este notebook describirá y calculará métricas de los campeonatos"
   ]
  },
  {
   "cell_type": "markdown",
   "metadata": {},
   "source": [
    "Primero, se define $P_{k}^{if}$ como variable binaria que indica si el equipo $i$ en la fecha $f$ puede llegar a la posición $k$"
   ]
  },
  {
   "cell_type": "markdown",
   "metadata": {},
   "source": [
    "Luego, definimos la métrica $F_{k}^f$ como la cantidad de equipos que pueden llegar a la posición $k$ en la fecha $f$."
   ]
  },
  {
   "cell_type": "markdown",
   "metadata": {},
   "source": [
    "Finalmente, se define la primera métrica $Champ_{k}$ como la cantidad de equipos que pueden llegar a la posición $k$.\n",
    "\n",
    "La relación entre las variables es la siguiente:"
   ]
  },
  {
   "cell_type": "markdown",
   "metadata": {},
   "source": [
    "$F_{k}^f = \\sum_{i \\in I} P_{k}^if$"
   ]
  },
  {
   "cell_type": "markdown",
   "metadata": {},
   "source": [
    "$Champ_k = \\sum_{f \\in F} F_{k}^f$"
   ]
  },
  {
   "cell_type": "markdown",
   "metadata": {},
   "source": [
    "Notese que para un campeonato perfecto, $Champ_k = |F||I|$"
   ]
  },
  {
   "cell_type": "markdown",
   "metadata": {},
   "source": [
    "Luego, se define la métrica $ChampNorm_k = \\frac{Champ_k}{|F||I|}$"
   ]
  },
  {
   "cell_type": "markdown",
   "metadata": {},
   "source": [
    "## Rango"
   ]
  },
  {
   "cell_type": "markdown",
   "metadata": {},
   "source": [
    "Sea $Pos_{i}^f$ La mejor posición que puede alcanzar el equipo $i$ en la fecha $f$ y $\\hat{Pos_{i}}^f$ la peor, se define el rango como $Rango_i^f = \\hat{Pos_{i}}^f - Pos_{i}^f$"
   ]
  },
  {
   "cell_type": "markdown",
   "metadata": {},
   "source": [
    "Luego, se define el rango promedio de una fecha  como $RangFecha_f = \\frac{\\sum_{i \\in I} Rango_i^f}{|I|}$"
   ]
  },
  {
   "cell_type": "markdown",
   "metadata": {},
   "source": [
    "Por último, se define el rango promedio del campeonato como $RangChamp = \\frac{\\sum_{f \\in f} RangFecha_f}{|F|}$"
   ]
  },
  {
   "cell_type": "markdown",
   "metadata": {},
   "source": [
    "**TO DO:** Más metricas como cantidad de rangos máximos en un campeonato"
   ]
  },
  {
   "cell_type": "markdown",
   "metadata": {},
   "source": [
    "## Cálculo"
   ]
  },
  {
   "cell_type": "code",
   "execution_count": 167,
   "metadata": {},
   "outputs": [],
   "source": [
    "base_dir = '../logs/solutions'\n",
    "champ = 'chile'\n",
    "start_date = 24\n",
    "filename_init = f'model-{champ}-init-0'\n",
    "filename_opt = f'model-{champ}_20-opt-1'"
   ]
  },
  {
   "cell_type": "code",
   "execution_count": 174,
   "metadata": {},
   "outputs": [],
   "source": [
    "beta_m, beta_p, z = {}, {}, {}\n",
    "\n",
    "\n",
    "with open(f'{base_dir}/{champ}/{filename_opt}.sol', 'r', encoding='utf-8') as infile:\n",
    "    for line in infile:\n",
    "        line = line.strip()\n",
    "        if 'beta' in line:\n",
    "            var, value = line.split()\n",
    "            _, var = var.split('[')\n",
    "            var = var.strip(']')\n",
    "            team, date = var.split(',')\n",
    "            if 'beta_p' in line:\n",
    "                beta_p[team, int(date)] = round(float(value))\n",
    "            else:\n",
    "                beta_m[team, int(date)] = round(float(value))\n",
    "        if 'z' == line[0]:\n",
    "            var, value = line.split()\n",
    "            _, var = var.split('[')\n",
    "            var = var.strip(']')\n",
    "            team, date, p1, p2 = var.split(',')\n",
    "            if float(value) > 0.5:\n",
    "                value = 1\n",
    "            else:\n",
    "                value = 0\n",
    "            z[(team, date, p1, p2)] = value"
   ]
  },
  {
   "cell_type": "markdown",
   "metadata": {},
   "source": []
  },
  {
   "cell_type": "code",
   "execution_count": 175,
   "metadata": {},
   "outputs": [],
   "source": [
    "teams = list(set([i[0] for i in beta_m.keys()]))\n",
    "dates = list(set([i[1] for i in beta_m.keys()]))"
   ]
  },
  {
   "cell_type": "code",
   "execution_count": 176,
   "metadata": {},
   "outputs": [],
   "source": [
    "def can_team_date_achieve_position(team, date, position=1, best_case=True):\n",
    "  if best_case:\n",
    "    if beta_m[team, date] <= position:\n",
    "      return True\n",
    "    return False\n",
    "  else:\n",
    "    if beta_p[team, date] >= position:\n",
    "      return True\n",
    "    return False"
   ]
  },
  {
   "cell_type": "code",
   "execution_count": 177,
   "metadata": {},
   "outputs": [],
   "source": [
    "def date_positions(date, position=1, best_case=True):\n",
    "  tot = 0\n",
    "  for team in teams:\n",
    "    if can_team_date_achieve_position(team, date, position, best_case):\n",
    "      tot += 1\n",
    "  return tot"
   ]
  },
  {
   "cell_type": "code",
   "execution_count": 178,
   "metadata": {},
   "outputs": [],
   "source": [
    "def champ_positions(position=1, best_case=True, norm=False):\n",
    "  tot = 0\n",
    "  for date in dates:\n",
    "    tot += date_positions(date, position, best_case)\n",
    "  if norm:\n",
    "    tot /= (len(dates) * len(teams))\n",
    "  return tot"
   ]
  },
  {
   "cell_type": "code",
   "execution_count": 179,
   "metadata": {},
   "outputs": [
    {
     "name": "stdout",
     "output_type": "stream",
     "text": [
      "156\n",
      "0.65\n"
     ]
    }
   ],
   "source": [
    "print(champ_positions())\n",
    "print(champ_positions(norm=True))"
   ]
  },
  {
   "cell_type": "markdown",
   "metadata": {},
   "source": [
    "Rango"
   ]
  },
  {
   "cell_type": "code",
   "execution_count": 180,
   "metadata": {},
   "outputs": [],
   "source": [
    "def team_date_range(team, date):\n",
    "  return beta_p[team, date] - beta_m[team, date]"
   ]
  },
  {
   "cell_type": "code",
   "execution_count": 181,
   "metadata": {},
   "outputs": [],
   "source": [
    "def date_range(date):\n",
    "  total = 0\n",
    "  for team in teams:\n",
    "    total += team_date_range(team, date)\n",
    "  return total / len(team)"
   ]
  },
  {
   "cell_type": "code",
   "execution_count": 182,
   "metadata": {},
   "outputs": [],
   "source": [
    "def champ_range():\n",
    "  total = 0\n",
    "  for date in dates:\n",
    "    total += date_range(date)\n",
    "  return total / len(dates)"
   ]
  },
  {
   "cell_type": "code",
   "execution_count": 183,
   "metadata": {},
   "outputs": [
    {
     "data": {
      "text/plain": [
       "93.06666666666666"
      ]
     },
     "execution_count": 183,
     "metadata": {},
     "output_type": "execute_result"
    }
   ],
   "source": [
    "champ_range()"
   ]
  },
  {
   "cell_type": "code",
   "execution_count": null,
   "metadata": {},
   "outputs": [],
   "source": []
  },
  {
   "cell_type": "code",
   "execution_count": null,
   "metadata": {},
   "outputs": [],
   "source": []
  },
  {
   "cell_type": "code",
   "execution_count": null,
   "metadata": {},
   "outputs": [],
   "source": []
  },
  {
   "cell_type": "code",
   "execution_count": null,
   "metadata": {},
   "outputs": [],
   "source": []
  }
 ],
 "metadata": {
  "kernelspec": {
   "display_name": "venv",
   "language": "python",
   "name": "python3"
  },
  "language_info": {
   "codemirror_mode": {
    "name": "ipython",
    "version": 3
   },
   "file_extension": ".py",
   "mimetype": "text/x-python",
   "name": "python",
   "nbconvert_exporter": "python",
   "pygments_lexer": "ipython3",
   "version": "3.11.0"
  },
  "orig_nbformat": 4
 },
 "nbformat": 4,
 "nbformat_minor": 2
}
