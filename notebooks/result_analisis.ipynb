{
  "cells": [
    {
      "cell_type": "markdown",
      "metadata": {
        "id": "kR_5p8Rg0PBY"
      },
      "source": [
        "# Análisis del Campeonato\n",
        "\n",
        "El siguiente notebook genera un archivo `.xlsx` con las posiciones del campeonato codificadas con colores, gráficos de posiciones por equipo y gráficos de posiciones de todos los equipos\n"
      ]
    },
    {
      "cell_type": "markdown",
      "metadata": {
        "id": "51kQJ5NW_Bwq"
      },
      "source": [
        "## Setup"
      ]
    },
    {
      "cell_type": "markdown",
      "metadata": {
        "id": "sM-W-EHY0RN_"
      },
      "source": [
        "Primero hay que parsear las variables $\\beta_{il}$"
      ]
    },
    {
      "cell_type": "code",
      "execution_count": 6,
      "metadata": {
        "id": "LKa1KsXK0jJY"
      },
      "outputs": [],
      "source": [
        "beta_m_init, beta_p_init = {}, {}\n",
        "beta_m_opt, beta_p_opt = {}, {}"
      ]
    },
    {
      "cell_type": "code",
      "execution_count": 7,
      "metadata": {
        "id": "baKj-maixhyQ"
      },
      "outputs": [],
      "source": [
        "base_dir = '../logs/solutions'\n",
        "champ = 'grecia'\n",
        "file_1 = f'model-{champ}-init-0'\n",
        "file_2 = f'model-{champ}-opt-*'"
      ]
    },
    {
      "cell_type": "code",
      "execution_count": 8,
      "metadata": {
        "id": "ZAc0AcoMzi1A"
      },
      "outputs": [],
      "source": [
        "with open(f'{base_dir}/{champ}/{file_1}.sol', 'r', encoding='utf-8') as infile:\n",
        "    for line in infile:\n",
        "        line = line.strip()\n",
        "        if 'beta' in line:\n",
        "            var, value = line.split()\n",
        "            _, var = var.split('[')\n",
        "            var = var.strip(']')\n",
        "            team, date = var.split(',')\n",
        "            if 'beta_p' in line:\n",
        "                beta_p_init[team, int(date)] = round(float(value))\n",
        "            else:\n",
        "                beta_m_init[team, int(date)] = round(float(value))"
      ]
    },
    {
      "cell_type": "code",
      "execution_count": 9,
      "metadata": {
        "id": "Lz6wOES18HRi"
      },
      "outputs": [],
      "source": [
        "with open(f'{base_dir}/{champ}/{file_2}.sol', 'r', encoding='utf-8') as infile:\n",
        "    for line in infile:\n",
        "        line = line.strip()\n",
        "        if 'beta' in line:\n",
        "            var, value = line.split()\n",
        "            _, var = var.split('[')\n",
        "            var = var.strip(']')\n",
        "            team, date = var.split(',')\n",
        "            if 'beta_p' in line:\n",
        "                beta_p_opt[team, int(date)] = round(float(value))\n",
        "            else:\n",
        "                beta_m_opt[team, int(date)] = round(float(value))"
      ]
    },
    {
      "cell_type": "markdown",
      "metadata": {
        "id": "jAyvZGlR1OZj"
      },
      "source": [
        "Obtenemos equipos y fechas"
      ]
    },
    {
      "cell_type": "code",
      "execution_count": 10,
      "metadata": {
        "id": "g0ChfLk51ADO"
      },
      "outputs": [],
      "source": [
        "teams = list({i[0] for i in beta_m_init.keys()})\n",
        "teams.sort()\n",
        "dates = list({i[1] for i in beta_m_init.keys()})"
      ]
    },
    {
      "cell_type": "code",
      "execution_count": 11,
      "metadata": {
        "colab": {
          "base_uri": "https://localhost:8080/"
        },
        "id": "yINxUxJ1u20q",
        "outputId": "6ca44c74-895d-4d30-fe9c-859119818da9"
      },
      "outputs": [
        {
          "data": {
            "text/plain": [
              "['AEK',\n",
              " 'APO',\n",
              " 'ASA',\n",
              " 'AST',\n",
              " 'ATR',\n",
              " 'ION',\n",
              " 'LAM',\n",
              " 'OFI',\n",
              " 'OLY',\n",
              " 'PAN',\n",
              " 'PAO',\n",
              " 'PAS',\n",
              " 'PNT',\n",
              " 'VOL']"
            ]
          },
          "execution_count": 11,
          "metadata": {},
          "output_type": "execute_result"
        }
      ],
      "source": [
        "teams"
      ]
    },
    {
      "cell_type": "markdown",
      "metadata": {
        "id": "Qo595Ago1gLz"
      },
      "source": [
        "Finalmente se construye una matriz, donde las filas son los equipos, las columnas las fechas y los valores de las celdas corresponden a la mejor y peor posición que puede alcnazar el equipo"
      ]
    },
    {
      "cell_type": "code",
      "execution_count": 12,
      "metadata": {
        "id": "vqXegqvO1W_M"
      },
      "outputs": [],
      "source": [
        "m_init, m_opt = [], []\n",
        "for team in teams:\n",
        "    t_init, t_opt = [], []\n",
        "    for date in dates:\n",
        "        t_init.append((beta_m_init[team, date], beta_p_init[team,date]))\n",
        "        t_opt.append((beta_m_opt[team, date], beta_p_opt[team,date]))\n",
        "    m_init.append(t_init)\n",
        "    m_opt.append(t_opt)"
      ]
    },
    {
      "cell_type": "markdown",
      "metadata": {
        "id": "euJxndw825yX"
      },
      "source": [
        "## Write excel"
      ]
    },
    {
      "cell_type": "code",
      "execution_count": 13,
      "metadata": {
        "id": "mCwNBPF9158F"
      },
      "outputs": [],
      "source": [
        " import xlsxwriter\n",
        "\n",
        " # Create a workbook and add a worksheet.\n",
        " workbook = xlsxwriter.Workbook(f'resultados_{file_1}.xlsx')\n",
        " worksheet = workbook.add_worksheet()"
      ]
    },
    {
      "cell_type": "code",
      "execution_count": 14,
      "metadata": {
        "id": "vIDdQi4X5EFh"
      },
      "outputs": [],
      "source": [
        "red = workbook.add_format({'bg_color': 'red'})\n",
        "green = workbook.add_format({'bg_color': 'green'})\n",
        "yellow = workbook.add_format({'bg_color': 'yellow'})"
      ]
    },
    {
      "cell_type": "code",
      "execution_count": 15,
      "metadata": {
        "id": "FiyV6X7i28W5"
      },
      "outputs": [],
      "source": [
        "for i, date in enumerate(dates):\n",
        "    worksheet.write(0, i + 1, date)"
      ]
    },
    {
      "cell_type": "code",
      "execution_count": 16,
      "metadata": {
        "id": "3NbFapG_3VTB"
      },
      "outputs": [],
      "source": [
        "for i, team in enumerate(teams):\n",
        "    worksheet.write(i + 1, 0, team)"
      ]
    },
    {
      "cell_type": "code",
      "execution_count": 17,
      "metadata": {
        "id": "5AKfFu6c30oL"
      },
      "outputs": [],
      "source": [
        "for i, team in enumerate(teams):\n",
        "    for j, results in enumerate(m_init[i]):\n",
        "        val = \"/\".join([str(i) for i in results])\n",
        "        if results[0] == 1 and results[1] == len(teams):\n",
        "            cell = green\n",
        "        elif results[0] == 1 or results[1] == len(teams):\n",
        "            cell = yellow\n",
        "        else:\n",
        "            cell = red\n",
        "        worksheet.write(i + 1, j + 1, val, cell)"
      ]
    },
    {
      "cell_type": "code",
      "execution_count": 18,
      "metadata": {
        "id": "tlcPV59G3ed8"
      },
      "outputs": [],
      "source": [
        " workbook.close()"
      ]
    },
    {
      "cell_type": "code",
      "execution_count": 19,
      "metadata": {
        "id": "ZsMP4jFZAw0z"
      },
      "outputs": [],
      "source": [
        "import xlsxwriter\n",
        "\n",
        "# Create a workbook and add a worksheet.\n",
        "workbook = xlsxwriter.Workbook(f'resultados_{file_2}.xlsx')\n",
        "worksheet = workbook.add_worksheet()\n",
        "\n",
        "red = workbook.add_format({'bg_color': 'red'})\n",
        "green = workbook.add_format({'bg_color': 'green'})\n",
        "yellow = workbook.add_format({'bg_color': 'yellow'})"
      ]
    },
    {
      "cell_type": "code",
      "execution_count": 20,
      "metadata": {
        "id": "EhWZ4DneAzbe"
      },
      "outputs": [],
      "source": [
        "for i, date in enumerate(dates):\n",
        "    worksheet.write(0, i + 1, date)\n",
        "\n",
        "for i, team in enumerate(teams):\n",
        "    worksheet.write(i + 1, 0, team)"
      ]
    },
    {
      "cell_type": "code",
      "execution_count": 21,
      "metadata": {
        "id": "IhUguiw4A1xN"
      },
      "outputs": [],
      "source": [
        "for i, team in enumerate(teams):\n",
        "    for j, results in enumerate(m_opt[i]):\n",
        "        val = \"/\".join([str(i) for i in results])\n",
        "        if results[0] == 1 and results[1] == len(teams):\n",
        "            cell = green\n",
        "        elif results[0] == 1 or results[1] == len(teams):\n",
        "            cell = yellow\n",
        "        else:\n",
        "            cell = red\n",
        "        worksheet.write(i + 1, j + 1, val, cell)"
      ]
    },
    {
      "cell_type": "code",
      "execution_count": 22,
      "metadata": {
        "id": "3CuS0rXZA6N2"
      },
      "outputs": [],
      "source": [
        " workbook.close()"
      ]
    },
    {
      "cell_type": "markdown",
      "metadata": {
        "id": "8KrhRNpgnI8b"
      },
      "source": [
        "## Grafico de mejor y peor caso para equipos"
      ]
    },
    {
      "cell_type": "code",
      "execution_count": 20,
      "metadata": {
        "id": "3XZaW8Un3iny"
      },
      "outputs": [],
      "source": [
        "team = 'CGC'"
      ]
    },
    {
      "cell_type": "code",
      "execution_count": 21,
      "metadata": {
        "id": "wEUcSsounOGY"
      },
      "outputs": [
        {
          "ename": "ModuleNotFoundError",
          "evalue": "No module named 'matplotlib'",
          "output_type": "error",
          "traceback": [
            "\u001b[0;31m---------------------------------------------------------------------------\u001b[0m",
            "\u001b[0;31mModuleNotFoundError\u001b[0m                       Traceback (most recent call last)",
            "Cell \u001b[0;32mIn[21], line 1\u001b[0m\n\u001b[0;32m----> 1\u001b[0m \u001b[39mimport\u001b[39;00m \u001b[39mmatplotlib\u001b[39;00m\u001b[39m.\u001b[39;00m\u001b[39mpyplot\u001b[39;00m \u001b[39mas\u001b[39;00m \u001b[39mplt\u001b[39;00m\n",
            "\u001b[0;31mModuleNotFoundError\u001b[0m: No module named 'matplotlib'"
          ]
        }
      ],
      "source": [
        "import matplotlib.pyplot as plt"
      ]
    },
    {
      "cell_type": "code",
      "execution_count": 22,
      "metadata": {
        "id": "qOAxEvkQndhF"
      },
      "outputs": [],
      "source": [
        "best_case_init = [beta_m_init[team, date] for date in dates]\n",
        "worst_case_init = [beta_p_init[team, date] for date in dates]\n",
        "best_case_opt = [beta_m_opt[team, date] for date in dates]\n",
        "worst_case_opt = [beta_p_opt[team, date] for date in dates]"
      ]
    },
    {
      "cell_type": "code",
      "execution_count": 23,
      "metadata": {
        "colab": {
          "base_uri": "https://localhost:8080/",
          "height": 295
        },
        "id": "gp18ZCvWnbBI",
        "outputId": "84272461-7982-450f-a1fb-2ebf3fcd58e4"
      },
      "outputs": [
        {
          "ename": "NameError",
          "evalue": "name 'plt' is not defined",
          "output_type": "error",
          "traceback": [
            "\u001b[0;31m---------------------------------------------------------------------------\u001b[0m",
            "\u001b[0;31mNameError\u001b[0m                                 Traceback (most recent call last)",
            "Cell \u001b[0;32mIn[23], line 1\u001b[0m\n\u001b[0;32m----> 1\u001b[0m plt\u001b[39m.\u001b[39mplot(best_case_init[:\u001b[39m-\u001b[39m\u001b[39m1\u001b[39m], linestyle \u001b[39m=\u001b[39m \u001b[39m'\u001b[39m\u001b[39mdotted\u001b[39m\u001b[39m'\u001b[39m)\n\u001b[1;32m      2\u001b[0m plt\u001b[39m.\u001b[39mplot(worst_case_init[:\u001b[39m-\u001b[39m\u001b[39m1\u001b[39m], linestyle \u001b[39m=\u001b[39m \u001b[39m'\u001b[39m\u001b[39mdotted\u001b[39m\u001b[39m'\u001b[39m)\n\u001b[1;32m      4\u001b[0m plt\u001b[39m.\u001b[39mtitle(\u001b[39mf\u001b[39m\u001b[39m\"\u001b[39m\u001b[39m{\u001b[39;00mteam\u001b[39m}\u001b[39;00m\u001b[39m Inicial\u001b[39m\u001b[39m\"\u001b[39m)\n",
            "\u001b[0;31mNameError\u001b[0m: name 'plt' is not defined"
          ]
        }
      ],
      "source": [
        "plt.plot(best_case_init[:-1], linestyle = 'dotted')\n",
        "plt.plot(worst_case_init[:-1], linestyle = 'dotted')\n",
        "\n",
        "plt.title(f\"{team} Inicial\")\n",
        "\n",
        "plt.xlabel(\"Fecha\")\n",
        "plt.ylabel(\"Posición\")\n",
        "\n",
        "plt.grid(linestyle = ':', linewidth = 0.5)\n",
        "plt.legend(['Mejor caso', 'Peor caso'])\n",
        "\n",
        "plt.show()"
      ]
    },
    {
      "cell_type": "code",
      "execution_count": 24,
      "metadata": {
        "colab": {
          "base_uri": "https://localhost:8080/",
          "height": 295
        },
        "id": "mocl2N7mBpDy",
        "outputId": "55eb999a-46bd-4d27-8286-5068081f50fe"
      },
      "outputs": [
        {
          "ename": "NameError",
          "evalue": "name 'plt' is not defined",
          "output_type": "error",
          "traceback": [
            "\u001b[0;31m---------------------------------------------------------------------------\u001b[0m",
            "\u001b[0;31mNameError\u001b[0m                                 Traceback (most recent call last)",
            "Cell \u001b[0;32mIn[24], line 1\u001b[0m\n\u001b[0;32m----> 1\u001b[0m plt\u001b[39m.\u001b[39mplot(best_case_opt[:\u001b[39m-\u001b[39m\u001b[39m1\u001b[39m], linestyle \u001b[39m=\u001b[39m \u001b[39m'\u001b[39m\u001b[39mdotted\u001b[39m\u001b[39m'\u001b[39m)\n\u001b[1;32m      2\u001b[0m plt\u001b[39m.\u001b[39mplot(worst_case_opt[:\u001b[39m-\u001b[39m\u001b[39m1\u001b[39m], linestyle \u001b[39m=\u001b[39m \u001b[39m'\u001b[39m\u001b[39mdotted\u001b[39m\u001b[39m'\u001b[39m)\n\u001b[1;32m      4\u001b[0m plt\u001b[39m.\u001b[39mtitle(\u001b[39mf\u001b[39m\u001b[39m\"\u001b[39m\u001b[39m{\u001b[39;00mteam\u001b[39m}\u001b[39;00m\u001b[39m Optimizado\u001b[39m\u001b[39m\"\u001b[39m)\n",
            "\u001b[0;31mNameError\u001b[0m: name 'plt' is not defined"
          ]
        }
      ],
      "source": [
        "plt.plot(best_case_opt[:-1], linestyle = 'dotted')\n",
        "plt.plot(worst_case_opt[:-1], linestyle = 'dotted')\n",
        "\n",
        "plt.title(f\"{team} Optimizado\")\n",
        "\n",
        "plt.xlabel(\"Fecha\")\n",
        "plt.ylabel(\"Posición\")\n",
        "\n",
        "plt.grid(linestyle = ':', linewidth = 0.5)\n",
        "plt.legend(['Mejor caso', 'Peor caso'])\n",
        "\n",
        "plt.show()"
      ]
    },
    {
      "cell_type": "markdown",
      "metadata": {
        "id": "_PYWcYPrpvjq"
      },
      "source": [
        "## Card at k"
      ]
    },
    {
      "cell_type": "markdown",
      "metadata": {
        "id": "9lmZwHDPp5ud"
      },
      "source": [
        "Para una fecha, contar la cantidad de equipos que pueden llegar a la k mejor y peor posición."
      ]
    },
    {
      "cell_type": "code",
      "execution_count": 25,
      "metadata": {
        "id": "sAwaFhJgp2Qj"
      },
      "outputs": [],
      "source": [
        "def get_card_best(beta, date, k=1):\n",
        "    count = 0\n",
        "    for team in teams:\n",
        "        pos = beta[team, date]\n",
        "        if pos <= k:\n",
        "            count += 1\n",
        "    return count"
      ]
    },
    {
      "cell_type": "code",
      "execution_count": 26,
      "metadata": {
        "id": "UpYY0xkeqnzY"
      },
      "outputs": [],
      "source": [
        "def get_card_worst(beta, date, k=1):\n",
        "    count = 0\n",
        "    for team in teams:\n",
        "        pos = beta[team, date]\n",
        "        if pos >= len(teams) + 1 - k:\n",
        "            count += 1\n",
        "    return count"
      ]
    },
    {
      "cell_type": "code",
      "execution_count": 27,
      "metadata": {
        "id": "xPzafn2noBuI"
      },
      "outputs": [],
      "source": [
        "card_best_1_init = [get_card_best(beta_m_init, date, 1) for date in dates]\n",
        "card_worst_1_init = [get_card_worst(beta_p_init, date, 1) for date in dates]\n",
        "card_best_1_opt = [get_card_best(beta_m_opt, date, 1) for date in dates]\n",
        "card_worst_1_opt = [get_card_worst(beta_p_opt, date, 1) for date in dates]"
      ]
    },
    {
      "cell_type": "code",
      "execution_count": 28,
      "metadata": {
        "colab": {
          "base_uri": "https://localhost:8080/",
          "height": 295
        },
        "id": "3OZc2QQWqivT",
        "outputId": "ae689ea3-3ca2-4e91-cd45-a860c357811b"
      },
      "outputs": [
        {
          "ename": "NameError",
          "evalue": "name 'plt' is not defined",
          "output_type": "error",
          "traceback": [
            "\u001b[0;31m---------------------------------------------------------------------------\u001b[0m",
            "\u001b[0;31mNameError\u001b[0m                                 Traceback (most recent call last)",
            "Cell \u001b[0;32mIn[28], line 1\u001b[0m\n\u001b[0;32m----> 1\u001b[0m plt\u001b[39m.\u001b[39mplot(card_best_1_init[:\u001b[39m-\u001b[39m\u001b[39m1\u001b[39m], linestyle \u001b[39m=\u001b[39m \u001b[39m'\u001b[39m\u001b[39mdotted\u001b[39m\u001b[39m'\u001b[39m)\n\u001b[1;32m      2\u001b[0m plt\u001b[39m.\u001b[39mplot(card_best_1_opt[:\u001b[39m-\u001b[39m\u001b[39m1\u001b[39m], linestyle \u001b[39m=\u001b[39m \u001b[39m'\u001b[39m\u001b[39mdotted\u001b[39m\u001b[39m'\u001b[39m)\n\u001b[1;32m      4\u001b[0m plt\u001b[39m.\u001b[39mtitle(\u001b[39m'\u001b[39m\u001b[39mCantidad de equipos que pueden salir 1\u001b[39m\u001b[39m'\u001b[39m)\n",
            "\u001b[0;31mNameError\u001b[0m: name 'plt' is not defined"
          ]
        }
      ],
      "source": [
        "plt.plot(card_best_1_init[:-1], linestyle = 'dotted')\n",
        "plt.plot(card_best_1_opt[:-1], linestyle = 'dotted')\n",
        "\n",
        "plt.title('Cantidad de equipos que pueden salir 1')\n",
        "\n",
        "plt.xlabel(\"Fecha\")\n",
        "plt.ylabel(\"Equipos\")\n",
        "\n",
        "plt.grid(linestyle = ':', linewidth = 0.5)\n",
        "plt.legend(['Original', 'Optimizado'])\n",
        "\n",
        "plt.show()"
      ]
    },
    {
      "cell_type": "code",
      "execution_count": 29,
      "metadata": {
        "colab": {
          "base_uri": "https://localhost:8080/",
          "height": 295
        },
        "id": "dn_VzKICrFw7",
        "outputId": "e85284fc-b637-4ba6-9cf6-72e3b2cc0b8f"
      },
      "outputs": [
        {
          "ename": "NameError",
          "evalue": "name 'plt' is not defined",
          "output_type": "error",
          "traceback": [
            "\u001b[0;31m---------------------------------------------------------------------------\u001b[0m",
            "\u001b[0;31mNameError\u001b[0m                                 Traceback (most recent call last)",
            "Cell \u001b[0;32mIn[29], line 1\u001b[0m\n\u001b[0;32m----> 1\u001b[0m plt\u001b[39m.\u001b[39mplot(card_best_1_opt, linestyle \u001b[39m=\u001b[39m \u001b[39m'\u001b[39m\u001b[39mdotted\u001b[39m\u001b[39m'\u001b[39m)\n\u001b[1;32m      2\u001b[0m plt\u001b[39m.\u001b[39mplot(card_worst_1_opt, linestyle \u001b[39m=\u001b[39m \u001b[39m'\u001b[39m\u001b[39mdotted\u001b[39m\u001b[39m'\u001b[39m)\n\u001b[1;32m      4\u001b[0m plt\u001b[39m.\u001b[39mtitle(\u001b[39m'\u001b[39m\u001b[39mCantidad de equipos que pueden salir primero o últimos\u001b[39m\u001b[39m'\u001b[39m)\n",
            "\u001b[0;31mNameError\u001b[0m: name 'plt' is not defined"
          ]
        }
      ],
      "source": [
        "plt.plot(card_best_1_opt, linestyle = 'dotted')\n",
        "plt.plot(card_worst_1_opt, linestyle = 'dotted')\n",
        "\n",
        "plt.title('Cantidad de equipos que pueden salir primero o últimos')\n",
        "\n",
        "plt.xlabel(\"Fecha\")\n",
        "plt.ylabel(\"Equipos\")\n",
        "\n",
        "plt.grid(linestyle = ':', linewidth = 0.5)\n",
        "plt.legend(['Primero', 'Ultimo'])\n",
        "\n",
        "plt.show()"
      ]
    },
    {
      "cell_type": "code",
      "execution_count": null,
      "metadata": {
        "id": "r5c1vysCCAqQ"
      },
      "outputs": [],
      "source": []
    }
  ],
  "metadata": {
    "colab": {
      "provenance": []
    },
    "kernelspec": {
      "display_name": "Python 3",
      "name": "python3"
    },
    "language_info": {
      "codemirror_mode": {
        "name": "ipython",
        "version": 3
      },
      "file_extension": ".py",
      "mimetype": "text/x-python",
      "name": "python",
      "nbconvert_exporter": "python",
      "pygments_lexer": "ipython3",
      "version": "3.11.0"
    }
  },
  "nbformat": 4,
  "nbformat_minor": 0
}
